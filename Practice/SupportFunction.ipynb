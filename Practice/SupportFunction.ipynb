{
 "cells": [
  {
   "cell_type": "code",
   "execution_count": 13,
   "id": "7bdb2c50-942a-48c3-a261-950f1b86f8e9",
   "metadata": {},
   "outputs": [
    {
     "name": "stdout",
     "output_type": "stream",
     "text": [
      "Support(yogurt): 0.14\n"
     ]
    }
   ],
   "source": [
    "transactions = []\n",
    "\n",
    "# Read and process each line manually\n",
    "with open('/Users/anirudhravipudi/Desktop/AI/Practice/groceries.csv', 'r') as file:\n",
    "    for line in file:\n",
    "        # Strip newline, split by comma, and remove empty strings/spaces\n",
    "        items = [item.strip() for item in line.strip().split(',') if item.strip()]\n",
    "        transactions.append(items)\n",
    "\n",
    "# Function to calculate support\n",
    "def calculate_support(item, transactions):\n",
    "    total = len(transactions)\n",
    "    count = sum(item in transaction for transaction in transactions)\n",
    "    return count / total\n",
    "\n",
    "# Example: check support for 'yogurt'\n",
    "item = 'yogurt'\n",
    "support = calculate_support(item, transactions)\n",
    "print(f\"Support({item}): {support:.2f}\")"
   ]
  },
  {
   "cell_type": "code",
   "execution_count": 23,
   "id": "daa8a5a9-53d8-446f-bd96-cf60973498de",
   "metadata": {},
   "outputs": [
    {
     "name": "stdout",
     "output_type": "stream",
     "text": [
      "Top 10 items by Support:\n",
      "\n",
      "whole milk           Support: 0.26\n",
      "other vegetables     Support: 0.19\n",
      "rolls/buns           Support: 0.18\n",
      "soda                 Support: 0.17\n",
      "yogurt               Support: 0.14\n",
      "bottled water        Support: 0.11\n",
      "root vegetables      Support: 0.11\n",
      "tropical fruit       Support: 0.10\n",
      "shopping bags        Support: 0.10\n",
      "sausage              Support: 0.09\n"
     ]
    }
   ],
   "source": [
    "from collections import Counter\n",
    "\n",
    "all_items = [item for transaction in transactions for item in transaction]\n",
    "\n",
    "item_counts = Counter(all_items)\n",
    "\n",
    "total_transactions = len(transactions)\n",
    "\n",
    "item_support = {item : count / total_transactions for item, count in item_counts.items()}\n",
    "\n",
    "top_10_items = sorted(item_support.items(), key=lambda x :x[1], reverse=True)[:10]\n",
    "\n",
    "print(\"Top 10 items by Support:\\n\")\n",
    "for item, support in top_10_items:\n",
    "    print(f\"{item:20} Support: {support:.2f}\")"
   ]
  },
  {
   "cell_type": "code",
   "execution_count": 25,
   "id": "121c4227-7c75-4cda-8e48-6a49e7ba1a0c",
   "metadata": {},
   "outputs": [
    {
     "name": "stdout",
     "output_type": "stream",
     "text": [
      "Support (['whole milk', 'soda']): 0.04\n"
     ]
    }
   ],
   "source": [
    "def calculate_itemset_support(itemset, transactions):\n",
    "    total = len(transactions)\n",
    "    count = sum(all(item in transaction for item in itemset) for transaction in transactions)\n",
    "    return count / total\n",
    "\n",
    "itemset = ['whole milk', 'soda']\n",
    "support = calculate_itemset_support(itemset, transactions)\n",
    "\n",
    "print(f\"Support ({itemset}): {support:.2f}\")"
   ]
  },
  {
   "cell_type": "code",
   "execution_count": 27,
   "id": "b9f7244e-95be-4580-b36a-c201653be2f9",
   "metadata": {},
   "outputs": [
    {
     "name": "stdout",
     "output_type": "stream",
     "text": [
      "Support (['yogurt', 'rolls/buns']): 0.03\n"
     ]
    }
   ],
   "source": [
    "def calculate_itemset_support(itemset, transactions):\n",
    "    total = len(transactions)\n",
    "    count = sum(all(item in transaction for item in itemset) for transaction in transactions)\n",
    "    return count / total\n",
    "\n",
    "itemset = ['yogurt', 'rolls/buns']\n",
    "support = calculate_itemset_support(itemset, transactions)\n",
    "\n",
    "print(f\"Support ({itemset}): {support:.2f}\")"
   ]
  },
  {
   "cell_type": "code",
   "execution_count": 29,
   "id": "4280f5b7-b73b-4251-a5a1-fac81f709599",
   "metadata": {},
   "outputs": [
    {
     "name": "stdout",
     "output_type": "stream",
     "text": [
      "Support (['other vegetables', 'root vegetables']): 0.05\n"
     ]
    }
   ],
   "source": [
    "def calculate_itemset_support(itemset, transactions):\n",
    "    total = len(transactions)\n",
    "    count = sum(all(item in transaction for item in itemset) for transaction in transactions)\n",
    "    return count / total\n",
    "\n",
    "itemset = ['other vegetables', 'root vegetables']\n",
    "support = calculate_itemset_support(itemset, transactions)\n",
    "\n",
    "print(f\"Support ({itemset}): {support:.2f}\")"
   ]
  },
  {
   "cell_type": "code",
   "execution_count": null,
   "id": "5d8d9044-b7df-447e-bd3d-a066c189ea37",
   "metadata": {},
   "outputs": [],
   "source": []
  }
 ],
 "metadata": {
  "kernelspec": {
   "display_name": "Python [conda env:base] *",
   "language": "python",
   "name": "conda-base-py"
  },
  "language_info": {
   "codemirror_mode": {
    "name": "ipython",
    "version": 3
   },
   "file_extension": ".py",
   "mimetype": "text/x-python",
   "name": "python",
   "nbconvert_exporter": "python",
   "pygments_lexer": "ipython3",
   "version": "3.10.16"
  }
 },
 "nbformat": 4,
 "nbformat_minor": 5
}
