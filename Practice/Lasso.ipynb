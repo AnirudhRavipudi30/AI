{
 "cells": [
  {
   "cell_type": "code",
   "execution_count": 20,
   "id": "d0ba2d7b-2902-4a3a-979e-474c3b45f3eb",
   "metadata": {},
   "outputs": [
    {
     "name": "stdout",
     "output_type": "stream",
     "text": [
      "📊 Coefficients:\n",
      "MedInc: 0.7092\n",
      "HouseAge: 0.1065\n",
      "AveRooms: -0.0000\n",
      "AveBedrms: 0.0000\n",
      "Population: -0.0000\n",
      "AveOccup: -0.0000\n",
      "Latitude: -0.0115\n",
      "Longitude: -0.0000\n",
      "\n",
      "📉 MAE: 0.6221\n",
      "📉 MSE: 0.6796\n",
      "📏 RMSE: 0.8243\n",
      "📈 R² Score: 0.4814\n"
     ]
    }
   ],
   "source": [
    "import numpy as np\n",
    "import pandas as pd\n",
    "from sklearn.datasets import fetch_california_housing\n",
    "from sklearn.linear_model import Lasso\n",
    "from sklearn.model_selection import train_test_split\n",
    "from sklearn.preprocessing import StandardScaler\n",
    "from sklearn.metrics import mean_squared_error, mean_absolute_error, r2_score\n",
    "\n",
    "data = fetch_california_housing()\n",
    "X = pd.DataFrame(data.data, columns=data.feature_names)\n",
    "y = pd.Series(data.target, name=\"MedianHouseValue\")\n",
    "\n",
    "scaler = StandardScaler()\n",
    "X_scaled = scaler.fit_transform(X)\n",
    "\n",
    "X_train, X_test, y_train, y_test = train_test_split(X_scaled, y, test_size=0.2, random_state=42)\n",
    "\n",
    "lasso = Lasso(alpha=0.1)  # You can try different values like 0.01, 0.5, 1.0\n",
    "lasso.fit(X_train, y_train)\n",
    "\n",
    "y_pred = lasso.predict(X_test)\n",
    "\n",
    "mse = mean_squared_error(y_test, y_pred)\n",
    "mae = mean_absolute_error(y_test, y_pred)\n",
    "rmse = np.sqrt(mse)\n",
    "r2 = r2_score(y_test, y_pred)\n",
    "\n",
    "print(\"📊 Coefficients:\")\n",
    "for name, coef in zip(data.feature_names, lasso.coef_):\n",
    "    print(f\"{name}: {coef:.4f}\")\n",
    "\n",
    "print(f\"\\n📉 MAE: {mae:.4f}\")\n",
    "print(f\"📉 MSE: {mse:.4f}\")\n",
    "print(f\"📏 RMSE: {rmse:.4f}\")\n",
    "print(f\"📈 R² Score: {r2:.4f}\")"
   ]
  },
  {
   "cell_type": "code",
   "execution_count": null,
   "id": "307f80c1-72eb-48e5-8f04-d071a00f4e9a",
   "metadata": {},
   "outputs": [],
   "source": []
  },
  {
   "cell_type": "code",
   "execution_count": null,
   "id": "d95a9d15-b5b1-4af0-b22f-1164587692df",
   "metadata": {},
   "outputs": [],
   "source": []
  }
 ],
 "metadata": {
  "kernelspec": {
   "display_name": "Python [conda env:base] *",
   "language": "python",
   "name": "conda-base-py"
  },
  "language_info": {
   "codemirror_mode": {
    "name": "ipython",
    "version": 3
   },
   "file_extension": ".py",
   "mimetype": "text/x-python",
   "name": "python",
   "nbconvert_exporter": "python",
   "pygments_lexer": "ipython3",
   "version": "3.10.16"
  }
 },
 "nbformat": 4,
 "nbformat_minor": 5
}
