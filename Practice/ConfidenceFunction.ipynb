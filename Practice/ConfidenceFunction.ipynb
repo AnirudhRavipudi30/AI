{
 "cells": [
  {
   "cell_type": "code",
   "execution_count": 1,
   "id": "52efea65-c033-410e-8bfb-3838dbe7f8aa",
   "metadata": {},
   "outputs": [
    {
     "name": "stdout",
     "output_type": "stream",
     "text": [
      "Confidence(['whole milk'] → ['soda']): 0.16\n"
     ]
    }
   ],
   "source": [
    "# Step 1: Load and parse the dataset\n",
    "transactions = []\n",
    "\n",
    "with open('/Users/anirudhravipudi/Desktop/AI/Practice/groceries.csv', 'r') as file:\n",
    "    for line in file:\n",
    "        items = [item.strip() for item in line.strip().split(',') if item.strip()]\n",
    "        transactions.append(items)\n",
    "\n",
    "# Step 2: Support calculation\n",
    "def calculate_support(itemset, transactions):\n",
    "    total = len(transactions)\n",
    "    count = sum(all(item in transaction for item in itemset) for transaction in transactions)\n",
    "    return count / total\n",
    "\n",
    "# Step 3: Confidence calculation\n",
    "def calculate_confidence(antecedent, consequent, transactions):\n",
    "    support_antecedent = calculate_support(antecedent, transactions)\n",
    "    support_both = calculate_support(antecedent + consequent, transactions)\n",
    "    \n",
    "    if support_antecedent == 0:\n",
    "        return 0  # Avoid division by zero\n",
    "    return support_both / support_antecedent\n",
    "\n",
    "# Step 4: Try it out\n",
    "antecedent = ['whole milk']\n",
    "consequent = ['soda']\n",
    "confidence = calculate_confidence(antecedent, consequent, transactions)\n",
    "\n",
    "print(f\"Confidence({antecedent} → {consequent}): {confidence:.2f}\")"
   ]
  }
 ],
 "metadata": {
  "kernelspec": {
   "display_name": "Python [conda env:base] *",
   "language": "python",
   "name": "conda-base-py"
  },
  "language_info": {
   "codemirror_mode": {
    "name": "ipython",
    "version": 3
   },
   "file_extension": ".py",
   "mimetype": "text/x-python",
   "name": "python",
   "nbconvert_exporter": "python",
   "pygments_lexer": "ipython3",
   "version": "3.10.16"
  }
 },
 "nbformat": 4,
 "nbformat_minor": 5
}
