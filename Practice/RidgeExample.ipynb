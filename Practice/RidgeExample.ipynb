{
 "cells": [
  {
   "cell_type": "code",
   "execution_count": 11,
   "id": "85374a5b-8c69-4764-bb22-8474803576b6",
   "metadata": {},
   "outputs": [
    {
     "name": "stdout",
     "output_type": "stream",
     "text": [
      "Coefficients:\n",
      "MedInc: 0.8517\n",
      "HouseAge: 0.1232\n",
      "AveRooms: -0.3027\n",
      "AveBedrms: 0.3680\n",
      "Population: -0.0020\n",
      "AveOccup: -0.0367\n",
      "Latitude: -0.8892\n",
      "Longitude: -0.8614\n",
      "\n",
      "📉 MAE: 0.5331\n",
      "📉 MSE: 0.5555\n",
      "📏 RMSE: 0.7453\n",
      "📈 R² Score: 0.5761\n"
     ]
    }
   ],
   "source": [
    "import numpy as np \n",
    "import pandas as pd\n",
    "from sklearn.datasets import fetch_california_housing\n",
    "from sklearn.preprocessing import StandardScaler\n",
    "from sklearn.linear_model import Ridge\n",
    "from sklearn.model_selection import train_test_split\n",
    "from sklearn.metrics import mean_squared_error, mean_absolute_error, r2_score\n",
    "\n",
    "data = fetch_california_housing()\n",
    "X = pd.DataFrame(data.data, columns=data.feature_names)\n",
    "y = pd.Series(data.target, name=\"MedianHouseValue\")\n",
    "\n",
    "scaler = StandardScaler()\n",
    "X_scaled = scaler.fit_transform(X)\n",
    "\n",
    "X_train, X_test, y_train, y_test = train_test_split(X_scaled, y, test_size=0.2, random_state=42)\n",
    "\n",
    "ridge = Ridge(alpha=10)\n",
    "ridge.fit(X_train, y_train)\n",
    "\n",
    "y_pred = ridge.predict(X_test)\n",
    "\n",
    "mse = mean_squared_error(y_test, y_pred)\n",
    "rmse = np.sqrt(mse)\n",
    "mae = mean_absolute_error(y_test, y_pred)\n",
    "r2 = r2_score(y_test, y_pred)\n",
    "\n",
    "print(\"Coefficients:\")\n",
    "for name, coef in zip(data.feature_names, ridge.coef_):\n",
    "    print(f\"{name}: {coef:.4f}\")\n",
    "\n",
    "print(f\"\\n📉 MAE: {mae:.4f}\")\n",
    "print(f\"📉 MSE: {mse:.4f}\")\n",
    "print(f\"📏 RMSE: {rmse:.4f}\")\n",
    "print(f\"📈 R² Score: {r2:.4f}\")"
   ]
  },
  {
   "cell_type": "code",
   "execution_count": null,
   "id": "3f69f087-506c-47f5-8117-cbce612db1bb",
   "metadata": {},
   "outputs": [],
   "source": []
  }
 ],
 "metadata": {
  "kernelspec": {
   "display_name": "Python [conda env:base] *",
   "language": "python",
   "name": "conda-base-py"
  },
  "language_info": {
   "codemirror_mode": {
    "name": "ipython",
    "version": 3
   },
   "file_extension": ".py",
   "mimetype": "text/x-python",
   "name": "python",
   "nbconvert_exporter": "python",
   "pygments_lexer": "ipython3",
   "version": "3.10.16"
  }
 },
 "nbformat": 4,
 "nbformat_minor": 5
}
