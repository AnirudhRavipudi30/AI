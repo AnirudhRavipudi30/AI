{
 "cells": [
  {
   "cell_type": "code",
   "execution_count": 3,
   "id": "95103e8e-afd6-408f-b432-bb901f15f658",
   "metadata": {},
   "outputs": [
    {
     "name": "stdout",
     "output_type": "stream",
     "text": [
      "   user_id  item_id  rating  timestamp\n",
      "0      196      242       3  881250949\n",
      "1      186      302       3  891717742\n",
      "2       22      377       1  878887116\n",
      "3      244       51       2  880606923\n",
      "4      166      346       1  886397596\n"
     ]
    }
   ],
   "source": [
    "import pandas as pd\n",
    "# Load the data file\n",
    "file_path = '/Users/anirudhravipudi/Desktop/AI/Practice/ml-100k/u.data'  # <- replace with your actual path\n",
    "column_names = ['user_id', 'item_id', 'rating', 'timestamp']\n",
    "\n",
    "ratings_df = pd.read_csv(file_path, sep='\\t', names=column_names)\n",
    "\n",
    "# Check it out\n",
    "print(ratings_df.head())"
   ]
  },
  {
   "cell_type": "code",
   "execution_count": 7,
   "id": "57185cf2-ebb2-4630-a7d4-1142416466c7",
   "metadata": {},
   "outputs": [
    {
     "name": "stdout",
     "output_type": "stream",
     "text": [
      "Collecting scikit-surprise\n",
      "  Downloading scikit_surprise-1.1.4.tar.gz (154 kB)\n",
      "  Installing build dependencies ... \u001b[?done\n",
      "\u001b[?25h  Getting requirements to build wheel ... \u001b[?25ldone\n",
      "\u001b[?25h  Preparing metadata (pyproject.toml) ... \u001b[?25ldone\n",
      "\u001b[?25hRequirement already satisfied: joblib>=1.2.0 in /opt/anaconda3/lib/python3.10/site-packages (from scikit-surprise) (1.4.2)\n",
      "Requirement already satisfied: numpy>=1.19.5 in /opt/anaconda3/lib/python3.10/site-packages (from scikit-surprise) (1.26.4)\n",
      "Requirement already satisfied: scipy>=1.6.0 in /opt/anaconda3/lib/python3.10/site-packages (from scikit-surprise) (1.13.1)\n",
      "Building wheels for collected packages: scikit-surprise\n",
      "  Building wheel for scikit-surprise (pyproject.toml) ... done\n",
      "\u001b[?25h  Created wheel for scikit-surprise: filename=scikit_surprise-1.1.4-cp310-cp310-macosx_11_0_arm64.whl size=485003 sha256=005e52d560da76d5b5baf0f5a04d66e58a9bc52439eeba1b9fc0a05e3af75d47\n",
      "  Stored in directory: /Users/anirudhravipudi/Library/Caches/pip/wheels/4b/3f/df/6acbf0a40397d9bf3ff97f582cc22fb9ce66adde75bc71fd54\n",
      "Successfully built scikit-surprise\n",
      "Installing collected packages: scikit-surprise\n",
      "Successfully installed scikit-surprise-1.1.4\n"
     ]
    }
   ],
   "source": [
    "!pip install scikit-surprise"
   ]
  },
  {
   "cell_type": "code",
   "execution_count": 9,
   "id": "acad78e3-1eeb-438a-98fc-f6ff809bf2c4",
   "metadata": {},
   "outputs": [
    {
     "name": "stdout",
     "output_type": "stream",
     "text": [
      "Computing the cosine similarity matrix...\n",
      "Done computing similarity matrix.\n",
      "RMSE: 1.0219\n",
      "\n",
      "Predicted rating for User 196 on Movie 302: 4.20\n"
     ]
    }
   ],
   "source": [
    "from surprise import Dataset, Reader, KNNBasic\n",
    "from surprise.model_selection import train_test_split\n",
    "from surprise import accuracy\n",
    "\n",
    "file_path = '/Users/anirudhravipudi/Desktop/AI/Practice/ml-100k/u.data'\n",
    "reader = Reader(line_format='user item rating timestamp', sep='\\t')\n",
    "data = Dataset.load_from_file(file_path, reader=reader)\n",
    "\n",
    "# Step 2: Train/Test Split\n",
    "trainset, testset = train_test_split(data, test_size=0.25)\n",
    "\n",
    "# Step 3: User-based Collaborative Filtering using Cosine Similarity\n",
    "sim_options = {\n",
    "    'name': 'cosine',\n",
    "    'user_based': True\n",
    "}\n",
    "algo = KNNBasic(sim_options=sim_options)\n",
    "algo.fit(trainset)\n",
    "\n",
    "# Step 4: Evaluate on test set\n",
    "predictions = algo.test(testset)\n",
    "accuracy.rmse(predictions)\n",
    "\n",
    "# Step 5: Predict a rating\n",
    "user_id = str(196)  # User IDs must be strings for surprise\n",
    "item_id = str(302)  # Same with item IDs\n",
    "pred = algo.predict(uid=user_id, iid=item_id)\n",
    "print(f\"\\nPredicted rating for User {user_id} on Movie {item_id}: {pred.est:.2f}\")"
   ]
  },
  {
   "cell_type": "code",
   "execution_count": 13,
   "id": "d66aa98f-5fb2-44b7-8610-60a2147d0c9a",
   "metadata": {},
   "outputs": [
    {
     "name": "stdout",
     "output_type": "stream",
     "text": [
      "L.A. Confidential (1997)\n"
     ]
    }
   ],
   "source": [
    "# Load movie titles from u.item\n",
    "file_path = '/Users/anirudhravipudi/Desktop/AI/Practice/ml-100k/u.data'  # Update path\n",
    "movie_titles = {}\n",
    "movie_file = '/Users/anirudhravipudi/Desktop/AI/Practice/ml-100k/u.item'\n",
    "with open(movie_file, encoding='ISO-8859-1') as f:\n",
    "    for line in f:\n",
    "        parts = line.strip().split('|')\n",
    "        movie_id = parts[0]\n",
    "        title = parts[1]\n",
    "        movie_titles[movie_id] = title\n",
    "\n",
    "# Test it\n",
    "print(movie_titles['302'])  # Title for movie ID 302"
   ]
  },
  {
   "cell_type": "code",
   "execution_count": 15,
   "id": "c6db3882-b935-43a4-a612-15f1b9a99a72",
   "metadata": {},
   "outputs": [
    {
     "name": "stdout",
     "output_type": "stream",
     "text": [
      "Computing the cosine similarity matrix...\n",
      "Done computing similarity matrix.\n",
      "\n",
      "🎬 Top 5 Recommendations for User 196:\n",
      "Prefontaine (1997) (Movie ID 1189) — Predicted Rating: 5.00\n",
      "Santa with Muscles (1996) (Movie ID 1500) — Predicted Rating: 5.00\n",
      "Great Day in Harlem, A (1994) (Movie ID 814) — Predicted Rating: 5.00\n",
      "Aiqing wansui (1994) (Movie ID 1536) — Predicted Rating: 5.00\n",
      "Star Kid (1997) (Movie ID 1293) — Predicted Rating: 5.00\n"
     ]
    }
   ],
   "source": [
    "from collections import defaultdict\n",
    "\n",
    "def get_top_n(predictions, n=5):\n",
    "    top_n = defaultdict(list)\n",
    "    for uid, iid, true_r, est, _ in predictions:\n",
    "        top_n[uid].append((iid, est))\n",
    "    for uid, user_ratings in top_n.items():\n",
    "        user_ratings.sort(key=lambda x: x[1], reverse=True)\n",
    "        top_n[uid] = user_ratings[:n]\n",
    "    return top_n\n",
    "\n",
    "# Build full model and anti-testset\n",
    "trainset = data.build_full_trainset()\n",
    "algo.fit(trainset)\n",
    "testset = trainset.build_anti_testset()\n",
    "predictions = algo.test(testset)\n",
    "top_n = get_top_n(predictions, n=5)\n",
    "\n",
    "# Display recommendations for user 196 with movie titles\n",
    "print(f\"\\n🎬 Top 5 Recommendations for User 196:\")\n",
    "for movie_id, score in top_n['196']:\n",
    "    title = movie_titles.get(movie_id, \"Unknown Title\")\n",
    "    print(f\"{title} (Movie ID {movie_id}) — Predicted Rating: {score:.2f}\")"
   ]
  },
  {
   "cell_type": "code",
   "execution_count": 17,
   "id": "16bbe3d6-fb5b-46a5-bd0d-bf10a35c8899",
   "metadata": {},
   "outputs": [
    {
     "name": "stdout",
     "output_type": "stream",
     "text": [
      "Computing the cosine similarity matrix...\n",
      "Done computing similarity matrix.\n",
      "RMSE: 0.4893\n",
      "Predicted rating [Item-Based, Cosine]: 3.61\n"
     ]
    }
   ],
   "source": [
    "from surprise import KNNBasic\n",
    "from surprise import accuracy\n",
    "\n",
    "# Set up Item-Based CF with Cosine\n",
    "sim_options = {\n",
    "    'name': 'cosine',\n",
    "    'user_based': False\n",
    "}\n",
    "algo_item_cosine = KNNBasic(sim_options=sim_options)\n",
    "algo_item_cosine.fit(trainset)\n",
    "\n",
    "# Predict & evaluate\n",
    "predictions_item_cosine = algo_item_cosine.test(testset)\n",
    "rmse_item_cosine = accuracy.rmse(predictions_item_cosine)\n",
    "\n",
    "# Predict rating for User 196 on Movie 302\n",
    "pred_item_cosine = algo_item_cosine.predict(uid='196', iid='302')\n",
    "print(f\"Predicted rating [Item-Based, Cosine]: {pred_item_cosine.est:.2f}\")"
   ]
  },
  {
   "cell_type": "code",
   "execution_count": 19,
   "id": "797fc665-483c-4a84-ac35-a383d33d9dba",
   "metadata": {},
   "outputs": [
    {
     "name": "stdout",
     "output_type": "stream",
     "text": [
      "Computing the pearson similarity matrix...\n",
      "Done computing similarity matrix.\n",
      "RMSE: 0.9442\n",
      "Predicted rating [User-Based, Pearson]: 3.93\n"
     ]
    }
   ],
   "source": [
    "# Set up User-Based CF with Pearson\n",
    "sim_options = {\n",
    "    'name': 'pearson',\n",
    "    'user_based': True\n",
    "}\n",
    "algo_user_pearson = KNNBasic(sim_options=sim_options)\n",
    "algo_user_pearson.fit(trainset)\n",
    "\n",
    "# Predict & evaluate\n",
    "predictions_user_pearson = algo_user_pearson.test(testset)\n",
    "rmse_user_pearson = accuracy.rmse(predictions_user_pearson)\n",
    "\n",
    "# Predict rating for User 196 on Movie 302\n",
    "pred_user_pearson = algo_user_pearson.predict(uid='196', iid='302')\n",
    "print(f\"Predicted rating [User-Based, Pearson]: {pred_user_pearson.est:.2f}\")"
   ]
  },
  {
   "cell_type": "code",
   "execution_count": null,
   "id": "80acd73e-c03b-4b01-98ef-9a29dc2ad964",
   "metadata": {},
   "outputs": [],
   "source": []
  }
 ],
 "metadata": {
  "kernelspec": {
   "display_name": "Python [conda env:base] *",
   "language": "python",
   "name": "conda-base-py"
  },
  "language_info": {
   "codemirror_mode": {
    "name": "ipython",
    "version": 3
   },
   "file_extension": ".py",
   "mimetype": "text/x-python",
   "name": "python",
   "nbconvert_exporter": "python",
   "pygments_lexer": "ipython3",
   "version": "3.10.16"
  }
 },
 "nbformat": 4,
 "nbformat_minor": 5
}
