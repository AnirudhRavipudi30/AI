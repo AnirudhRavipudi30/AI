{
 "cells": [
  {
   "cell_type": "code",
   "execution_count": 9,
   "id": "41949ca5-abe4-480e-bd7f-ea04b22fe223",
   "metadata": {},
   "outputs": [
    {
     "name": "stdout",
     "output_type": "stream",
     "text": [
      "✅ Best Alpha: 0.1\n",
      "📉 MAE: 0.5332\n",
      "📉 MSE: 0.5559\n",
      "📏 RMSE: 0.7456\n",
      "📈 R² Score: 0.5758\n",
      "\n",
      "📊 Coefficients:\n",
      "MedInc: 0.8524\n",
      "HouseAge: 0.1224\n",
      "AveRooms: -0.3051\n",
      "AveBedrms: 0.3711\n",
      "Population: -0.0023\n",
      "AveOccup: -0.0366\n",
      "Latitude: -0.8966\n",
      "Longitude: -0.8689\n"
     ]
    }
   ],
   "source": [
    "import pandas as pd\n",
    "import numpy as np\n",
    "from sklearn.datasets import fetch_california_housing\n",
    "from sklearn.preprocessing import StandardScaler\n",
    "from sklearn.model_selection import train_test_split, GridSearchCV\n",
    "from sklearn.linear_model import Ridge\n",
    "from sklearn.metrics import mean_squared_error, mean_absolute_error, r2_score\n",
    "\n",
    "data = fetch_california_housing()\n",
    "X = pd.DataFrame(data.data, columns=data.feature_names)\n",
    "y = pd.Series(data.target, name=\"MedianHouseValue\")\n",
    "\n",
    "scaler = StandardScaler()\n",
    "X_scaled = scaler.fit_transform(X)\n",
    "\n",
    "X_train, X_test, y_train, y_test = train_test_split(X_scaled, y, test_size=0.2, random_state=42)\n",
    "\n",
    "ridge = Ridge()\n",
    "params = {'alpha': [0.01, 0.1, 1, 10, 100, 1000]}\n",
    "\n",
    "grid_search = GridSearchCV(ridge, params, cv=5, scoring='r2')\n",
    "grid_search.fit(X_train, y_train)\n",
    "\n",
    "best_model = grid_search.best_estimator_\n",
    "best_alpha = grid_search.best_params_['alpha']\n",
    "\n",
    "y_pred = best_model.predict(X_test)\n",
    "\n",
    "mse = mean_squared_error(y_test, y_pred)\n",
    "rmse = np.sqrt(mse)\n",
    "mae = mean_absolute_error(y_test, y_pred)\n",
    "r2 = r2_score(y_test, y_pred)\n",
    "\n",
    "print(f\"✅ Best Alpha: {best_alpha}\")\n",
    "print(f\"📉 MAE: {mae:.4f}\")\n",
    "print(f\"📉 MSE: {mse:.4f}\")\n",
    "print(f\"📏 RMSE: {rmse:.4f}\")\n",
    "print(f\"📈 R² Score: {r2:.4f}\")\n",
    "\n",
    "print(\"\\n📊 Coefficients:\")\n",
    "for name, coef in zip(data.feature_names, best_model.coef_):\n",
    "    print(f\"{name}: {coef:.4f}\")"
   ]
  },
  {
   "cell_type": "code",
   "execution_count": null,
   "id": "f7427069-c3fb-4fae-bd50-b8860aa44c98",
   "metadata": {},
   "outputs": [],
   "source": []
  }
 ],
 "metadata": {
  "kernelspec": {
   "display_name": "Python [conda env:base] *",
   "language": "python",
   "name": "conda-base-py"
  },
  "language_info": {
   "codemirror_mode": {
    "name": "ipython",
    "version": 3
   },
   "file_extension": ".py",
   "mimetype": "text/x-python",
   "name": "python",
   "nbconvert_exporter": "python",
   "pygments_lexer": "ipython3",
   "version": "3.10.16"
  }
 },
 "nbformat": 4,
 "nbformat_minor": 5
}
